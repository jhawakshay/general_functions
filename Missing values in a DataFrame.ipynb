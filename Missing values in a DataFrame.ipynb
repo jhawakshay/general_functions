{
 "cells": [
  {
   "cell_type": "code",
   "execution_count": null,
   "metadata": {},
   "outputs": [],
   "source": [
    "def missing_vals(data_):\n",
    "    miss_     = data_.isnull().sum()\n",
    "    miss_pct  = data_.isnull().sum()/data_.shape[0]\n",
    "    \n",
    "    miss_pct  = pd.concat([miss_, miss_pct], axis =1)\n",
    "    miss_pct.reset_index(inplace=True)\n",
    "    miss_cols = miss_pct.rename(columns={'index':'Column Name', 0:'Missings', 1:'Missing_pct'})\n",
    "    \n",
    "    miss_cols = miss_cols[miss_cols.iloc[:,1]!=0].sort_values('Missing_pct', ascending=False).round(1)\n",
    "    miss_cols.reset_index(inplace=True, drop=True)\n",
    "    \n",
    "    return miss_cols "
   ]
  },
  {
   "cell_type": "code",
   "execution_count": null,
   "metadata": {},
   "outputs": [],
   "source": [
    "miss = missing_vals(data_)\n",
    "miss"
   ]
  }
 ],
 "metadata": {
  "kernelspec": {
   "display_name": "Python 3",
   "language": "python",
   "name": "python3"
  },
  "language_info": {
   "codemirror_mode": {
    "name": "ipython",
    "version": 3
   },
   "file_extension": ".py",
   "mimetype": "text/x-python",
   "name": "python",
   "nbconvert_exporter": "python",
   "pygments_lexer": "ipython3",
   "version": "3.7.6"
  }
 },
 "nbformat": 4,
 "nbformat_minor": 4
}
